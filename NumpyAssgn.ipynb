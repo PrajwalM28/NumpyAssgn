{
 "cells": [
  {
   "cell_type": "markdown",
   "id": "87e087e4-b3bc-49a8-9f22-cf08f3933bbb",
   "metadata": {},
   "source": [
    "## Q1."
   ]
  },
  {
   "cell_type": "markdown",
   "id": "15dbc38b-b73a-4e15-93b3-eb9104d3545c",
   "metadata": {},
   "source": [
    "\"\"\"\n",
    "Yes, there is a difference in the data type of the list_ and array_list variables. list_ is a Python list, and array_list is a NumPy array, so their data types are different. \n",
    "\n",
    "\"\"\""
   ]
  },
  {
   "cell_type": "code",
   "execution_count": 2,
   "id": "6cc7475f-9d49-4d59-8e54-2d48a0a51b2b",
   "metadata": {},
   "outputs": [],
   "source": [
    "import numpy as np"
   ]
  },
  {
   "cell_type": "code",
   "execution_count": 6,
   "id": "ded0da36-8341-49dc-b27d-e555508a6ac7",
   "metadata": {},
   "outputs": [],
   "source": [
    "list = ['1','2','3','4']\n",
    "arr_lst = np.array(list)"
   ]
  },
  {
   "cell_type": "code",
   "execution_count": 7,
   "id": "1e98d319-bed2-4126-ae16-67cfac4ed586",
   "metadata": {},
   "outputs": [
    {
     "data": {
      "text/plain": [
       "list"
      ]
     },
     "execution_count": 7,
     "metadata": {},
     "output_type": "execute_result"
    }
   ],
   "source": [
    "type(list)"
   ]
  },
  {
   "cell_type": "code",
   "execution_count": 8,
   "id": "9ffbd1c4-a336-4b41-a554-361da8656f44",
   "metadata": {},
   "outputs": [
    {
     "data": {
      "text/plain": [
       "numpy.ndarray"
      ]
     },
     "execution_count": 8,
     "metadata": {},
     "output_type": "execute_result"
    }
   ],
   "source": [
    "type(arr_lst)"
   ]
  },
  {
   "cell_type": "markdown",
   "id": "61ae07c8-22c6-4a77-97b8-f2714d4fe6f3",
   "metadata": {},
   "source": [
    "## Q2."
   ]
  },
  {
   "cell_type": "code",
   "execution_count": 10,
   "id": "f0954ab9-1306-4863-9f4b-e62c2382b76e",
   "metadata": {},
   "outputs": [
    {
     "name": "stdout",
     "output_type": "stream",
     "text": [
      "<class 'str'>\n",
      "<class 'str'>\n",
      "<class 'str'>\n",
      "<class 'str'>\n"
     ]
    }
   ],
   "source": [
    "for i in list:\n",
    "    print(type(i))"
   ]
  },
  {
   "cell_type": "code",
   "execution_count": 11,
   "id": "866eef4a-3628-424d-aa70-c6c2ea02884c",
   "metadata": {},
   "outputs": [
    {
     "name": "stdout",
     "output_type": "stream",
     "text": [
      "<class 'numpy.str_'>\n",
      "<class 'numpy.str_'>\n",
      "<class 'numpy.str_'>\n",
      "<class 'numpy.str_'>\n"
     ]
    }
   ],
   "source": [
    "for j in arr_lst:\n",
    "    print(type(j))"
   ]
  },
  {
   "cell_type": "markdown",
   "id": "85560266-96b9-48f2-a106-e24b8356702f",
   "metadata": {},
   "source": [
    "## Q3."
   ]
  },
  {
   "cell_type": "markdown",
   "id": "b244b62a-b750-4b8c-83a9-b7293e94336e",
   "metadata": {},
   "source": [
    "Yes"
   ]
  },
  {
   "cell_type": "code",
   "execution_count": 12,
   "id": "b1ccd080-1408-4d70-a7df-fd62fc4f5673",
   "metadata": {},
   "outputs": [],
   "source": [
    "list = ['1','2','3','4']\n",
    "arr_lst = np.array(list,dtype = int)"
   ]
  },
  {
   "cell_type": "code",
   "execution_count": 13,
   "id": "34d699bb-dfc4-4365-936c-41454fac4f70",
   "metadata": {},
   "outputs": [
    {
     "name": "stdout",
     "output_type": "stream",
     "text": [
      "<class 'str'>\n",
      "<class 'str'>\n",
      "<class 'str'>\n",
      "<class 'str'>\n"
     ]
    }
   ],
   "source": [
    "for i in list:\n",
    "    print(type(i))"
   ]
  },
  {
   "cell_type": "code",
   "execution_count": 14,
   "id": "2a62f981-3986-456b-a211-bc9e3bf548da",
   "metadata": {},
   "outputs": [
    {
     "name": "stdout",
     "output_type": "stream",
     "text": [
      "<class 'numpy.int64'>\n",
      "<class 'numpy.int64'>\n",
      "<class 'numpy.int64'>\n",
      "<class 'numpy.int64'>\n"
     ]
    }
   ],
   "source": [
    "for j in arr_lst:\n",
    "    print(type(j))"
   ]
  },
  {
   "cell_type": "markdown",
   "id": "f22533f6-6d7b-49a2-97ed-8438f3343cce",
   "metadata": {},
   "source": [
    "# Q4."
   ]
  },
  {
   "cell_type": "code",
   "execution_count": 15,
   "id": "58c43bba-134c-4452-beee-1ae0a8d9d5dc",
   "metadata": {},
   "outputs": [],
   "source": [
    "num_list = [[1,2,3],[4,5,6]]\n",
    "num_array = np.array(num_list)"
   ]
  },
  {
   "cell_type": "code",
   "execution_count": 17,
   "id": "818aa9f4-9b9f-46e0-a2e8-8c3065ad196a",
   "metadata": {},
   "outputs": [
    {
     "data": {
      "text/plain": [
       "(2, 3)"
      ]
     },
     "execution_count": 17,
     "metadata": {},
     "output_type": "execute_result"
    }
   ],
   "source": [
    "num_array.shape"
   ]
  },
  {
   "cell_type": "code",
   "execution_count": 18,
   "id": "89ee1cb8-4e44-4baf-ab44-8788e0234ab1",
   "metadata": {},
   "outputs": [
    {
     "data": {
      "text/plain": [
       "6"
      ]
     },
     "execution_count": 18,
     "metadata": {},
     "output_type": "execute_result"
    }
   ],
   "source": [
    "num_array.size"
   ]
  },
  {
   "cell_type": "markdown",
   "id": "0904040d-4852-4427-823c-cae484a4ba40",
   "metadata": {},
   "source": [
    "## Q5."
   ]
  },
  {
   "cell_type": "code",
   "execution_count": 20,
   "id": "5e042ead-06f5-4600-9878-8067aaa6dc6b",
   "metadata": {},
   "outputs": [
    {
     "data": {
      "text/plain": [
       "array([[0., 0., 0.],\n",
       "       [0., 0., 0.],\n",
       "       [0., 0., 0.]])"
      ]
     },
     "execution_count": 20,
     "metadata": {},
     "output_type": "execute_result"
    }
   ],
   "source": [
    "np.zeros((3,3))"
   ]
  },
  {
   "cell_type": "markdown",
   "id": "bc909f33-2765-4d6d-ae7f-f6663a675158",
   "metadata": {},
   "source": [
    "## Q6."
   ]
  },
  {
   "cell_type": "code",
   "execution_count": 24,
   "id": "10200695-6150-4012-a242-e1b9d68fd0d7",
   "metadata": {},
   "outputs": [
    {
     "data": {
      "text/plain": [
       "array([[1., 0., 0., 0., 0.],\n",
       "       [0., 1., 0., 0., 0.],\n",
       "       [0., 0., 1., 0., 0.],\n",
       "       [0., 0., 0., 1., 0.],\n",
       "       [0., 0., 0., 0., 1.]])"
      ]
     },
     "execution_count": 24,
     "metadata": {},
     "output_type": "execute_result"
    }
   ],
   "source": [
    "np.eye(5)"
   ]
  }
 ],
 "metadata": {
  "kernelspec": {
   "display_name": "Python 3 (ipykernel)",
   "language": "python",
   "name": "python3"
  },
  "language_info": {
   "codemirror_mode": {
    "name": "ipython",
    "version": 3
   },
   "file_extension": ".py",
   "mimetype": "text/x-python",
   "name": "python",
   "nbconvert_exporter": "python",
   "pygments_lexer": "ipython3",
   "version": "3.10.8"
  }
 },
 "nbformat": 4,
 "nbformat_minor": 5
}
